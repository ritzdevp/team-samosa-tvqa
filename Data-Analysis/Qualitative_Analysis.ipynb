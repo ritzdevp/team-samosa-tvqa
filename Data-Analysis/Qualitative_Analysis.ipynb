{
  "nbformat": 4,
  "nbformat_minor": 0,
  "metadata": {
    "colab": {
      "name": "Qualitative_Analysis.ipynb",
      "provenance": [],
      "collapsed_sections": []
    },
    "kernelspec": {
      "name": "python3",
      "display_name": "Python 3"
    },
    "language_info": {
      "name": "python"
    }
  },
  "cells": [
    {
      "cell_type": "code",
      "execution_count": 1,
      "metadata": {
        "id": "-M5AyX6mrjlR"
      },
      "outputs": [],
      "source": [
        "import json\n",
        "import numpy as np\n",
        "import pandas as pd\n",
        "import matplotlib.pyplot as plt"
      ]
    },
    {
      "cell_type": "code",
      "source": [
        "!wget https://tvqa.cs.unc.edu/files/tvqa_plus_annotations.tar.gz\n",
        "!tar -xvf tvqa_plus_annotations.tar.gz"
      ],
      "metadata": {
        "id": "94KipK7iR3OG",
        "colab": {
          "base_uri": "https://localhost:8080/"
        },
        "outputId": "2b1414fa-78ff-4cf1-eb67-b7f5070e212c"
      },
      "execution_count": 2,
      "outputs": [
        {
          "output_type": "stream",
          "name": "stdout",
          "text": [
            "--2022-04-03 05:01:19--  https://tvqa.cs.unc.edu/files/tvqa_plus_annotations.tar.gz\n",
            "Resolving tvqa.cs.unc.edu (tvqa.cs.unc.edu)... 152.2.132.230\n",
            "Connecting to tvqa.cs.unc.edu (tvqa.cs.unc.edu)|152.2.132.230|:443... connected.\n",
            "HTTP request sent, awaiting response... 200 OK\n",
            "Length: 6718915 (6.4M) [application/x-gzip]\n",
            "Saving to: ‘tvqa_plus_annotations.tar.gz’\n",
            "\n",
            "tvqa_plus_annotatio 100%[===================>]   6.41M  32.1MB/s    in 0.2s    \n",
            "\n",
            "2022-04-03 05:01:22 (32.1 MB/s) - ‘tvqa_plus_annotations.tar.gz’ saved [6718915/6718915]\n",
            "\n",
            "./._tvqa_plus_train.json\n",
            "tvqa_plus_train.json\n",
            "./._tvqa_plus_val.json\n",
            "tvqa_plus_val.json\n"
          ]
        }
      ]
    },
    {
      "cell_type": "code",
      "source": [
        "!wget https://tvqa.cs.unc.edu/files/tvqa_plus_subtitles.tar.gz\n",
        "!tar xvf tvqa_plus_subtitles.tar.gz"
      ],
      "metadata": {
        "id": "NDbFs6xyWJjI"
      },
      "execution_count": null,
      "outputs": []
    },
    {
      "cell_type": "code",
      "source": [
        "from google.colab import drive\n",
        "drive.mount('/content/drive')"
      ],
      "metadata": {
        "colab": {
          "base_uri": "https://localhost:8080/"
        },
        "id": "OtBB34XszHFJ",
        "outputId": "b4139e97-25f1-44fb-e946-9b60b242558a"
      },
      "execution_count": 3,
      "outputs": [
        {
          "output_type": "stream",
          "name": "stdout",
          "text": [
            "Mounted at /content/drive\n"
          ]
        }
      ]
    },
    {
      "cell_type": "code",
      "source": [
        "!cp -r drive/MyDrive/Prediction_jsons/ ."
      ],
      "metadata": {
        "id": "plHoBspzzPMV"
      },
      "execution_count": 5,
      "outputs": []
    },
    {
      "cell_type": "code",
      "source": [
        "#VIDEO UNI\n",
        "uni_video = '/content/Prediction_jsons/VIDEO_UNI_PRED.json'\n",
        "data = 'tvqa_plus_val.json'\n",
        "\n",
        "#Subtitles UNI\n",
        "uni_sub = '/content/Prediction_jsons/BERT_SUBTITLE_UNIMODAL/BERT_SUBTITLES_UNIMODAL_PRED.json'\n",
        "\n",
        "#QA only\n",
        "uni_qa = '/content/Prediction_jsons/QA_only_pred.json'\n",
        "\n",
        "#Multimodal BERT RESNET LINEAR\n",
        "mm_lin = '/content/Prediction_jsons/MM_BERT_RES_LIN_PRED.json'\n",
        "\n",
        "#Multimodal GLOVE RESNET MULTIMODAL PRED\n",
        "mm_glove = '/content/Prediction_jsons/glove_resnet_self_attention/GLOVE_RESNET_MULTIMODAL_PRED.JSON'\n",
        "\n",
        "#Multimodal BERT RESNET \n",
        "mm_sa = '/content/Prediction_jsons/BERT_RESNET_SELF_ATT_MULTIMODAL/BERT_RESNET_MULTIMODAL_PRED.json'"
      ],
      "metadata": {
        "id": "AZNZRd0hazRf"
      },
      "execution_count": 19,
      "outputs": []
    },
    {
      "cell_type": "code",
      "source": [
        "def load_json(file_path):\n",
        "    with open(file_path, \"r\") as f:\n",
        "        return json.load(f, encoding='utf-8')"
      ],
      "metadata": {
        "id": "xPRu3OwX3cZq"
      },
      "execution_count": 21,
      "outputs": []
    },
    {
      "cell_type": "code",
      "source": [
        "models = [uni_video, uni_sub, uni_qa, mm_lin, mm_glove, mm_sa]\n",
        "model_preds = []\n",
        "for i in models:\n",
        "  temp = load_json(i)\n",
        "  predictions = {}\n",
        "  for i in temp:\n",
        "    predictions[i] = str(temp[i])\n",
        "  model_preds.append(predictions)"
      ],
      "metadata": {
        "id": "YhgyI9J6329J"
      },
      "execution_count": 22,
      "outputs": []
    },
    {
      "cell_type": "code",
      "source": [
        "val_data = load_json(data)"
      ],
      "metadata": {
        "id": "8yJk0eB-446V"
      },
      "execution_count": 27,
      "outputs": []
    },
    {
      "cell_type": "code",
      "source": [
        "val_sub = load_json('/content/tvqa_plus_subtitles.json')"
      ],
      "metadata": {
        "id": "G3OvhvWuWQVs"
      },
      "execution_count": 112,
      "outputs": []
    },
    {
      "cell_type": "code",
      "source": [
        "model_names = ['UNI_VIDEO', 'UNI_SUB', 'UNI_QA', 'MM_LIN', 'MM_GLOVE', 'MM_SA']\n",
        "for i in [5, 978, 1589, 2546]:\n",
        "  print(\"Question: \", val_data[i]['q'])\n",
        "  print(\"Answers: \")\n",
        "  print(\"a0: \", val_data[i]['a0'])\n",
        "  print(\"a1: \", val_data[i]['a1'])\n",
        "  print(\"a2: \", val_data[i]['a2'])\n",
        "  print(\"a3: \", val_data[i]['a3'])\n",
        "  print(\"a4: \", val_data[i]['a4'])\n",
        "  print(\"Correct Answer: \", val_data[i]['a'+str(val_data[i]['answer_idx'])])\n",
        "  print(\"Subtitle: \", val_sub[val_data[i]['vid_name']]['sub_text'])\n",
        "  print(\"Predictions: \")\n",
        "  for idx, model in enumerate(model_preds):\n",
        "    pred_idx = model[str(val_data[i]['qid'])]\n",
        "    print(model_names[idx], \": \", val_data[i]['a'+str(pred_idx)])\n",
        "  print()"
      ],
      "metadata": {
        "colab": {
          "base_uri": "https://localhost:8080/"
        },
        "id": "28PvwTrP5dtV",
        "outputId": "3eb3fdee-822f-43f1-96ab-08dd3d234ba9"
      },
      "execution_count": 113,
      "outputs": [
        {
          "output_type": "stream",
          "name": "stdout",
          "text": [
            "Question:  Where is Leonard sitting when Lesley talks about the kiss ?\n",
            "Answers: \n",
            "a0:  Leonard is sitting on the sink .\n",
            "a1:  Leonard is sitting on the barstool .\n",
            "a2:  Leonard is sitting on the floor .\n",
            "a3:  Leonard is sitting in Lesley 's lap .\n",
            "a4:  Leonard is sitting behind the desk .\n",
            "Correct Answer:  Leonard is sitting on the barstool .\n",
            "Subtitle:  UNKNAME : What do you think ? You proposed the experiment . <eos> Leonard : I think you should present your findings first . <eos> Lesley : Fair enough . <eos> Lesley : On the plus side , it was a good kiss , reasonable technique . <eos> Lesley : . no extraneous spittle . <eos> Lesley : On the other hand , no arousal . <eos> UNKNAME : None ? None . <eos> Leonard : Ah . <eos> Leonard : Well , thank you for your time . <eos> Penny : Thank you . Hmm . <eos> Leonard : None at all ? <eos> Howard : Sheldon , if you were a robot and I knew and you did n't . <eos> Howard : . would you want me to tell you ? <eos> Sheldon : That depends . <eos> Sheldon : When I learn that I  'm a robot , will I be able to handle it ? <eos> Howard : Maybe , although the history of science fiction is not on your side .\n",
            "Predictions: \n",
            "UNI_VIDEO :  Leonard is sitting on the barstool .\n",
            "UNI_SUB :  Leonard is sitting behind the desk .\n",
            "UNI_QA :  Leonard is sitting behind the desk .\n",
            "MM_LIN :  Leonard is sitting on the barstool .\n",
            "MM_GLOVE :  Leonard is sitting behind the desk .\n",
            "MM_SA :  Leonard is sitting behind the desk .\n",
            "\n",
            "Question:  What does Howard show Bernadette after he does a magic trick ?\n",
            "Answers: \n",
            "a0:  His old box of magic tricks .\n",
            "a1:  Half a dozen napkins .\n",
            "a2:  His mom 's favorite dress .\n",
            "a3:  Two purple vests .\n",
            "a4:  A pink robe he bought her .\n",
            "Correct Answer:  Two purple vests .\n",
            "Subtitle:  Howard : . the only wand that ever saw any action was this one . <eos> UNKNAME : Oh ! Look what my mom made us for the act . <eos> Howard : Well , she cut up one of her old bathing suits . <eos> Howard : She made these two vests and haIf a dozen napkins . <eos> Mrs Wolowitz off : Has she tried on the vest yet ? <eos> UNKNAME : l just gave it to her . I hope it fits . <eos> Mrs Wolowitz off : She has a tricky figure . She  's short and stacked like me . <eos> Howard : She  's not stacked like you , Ma . She never steps on hers . <eos> Bernadette : Listen , Howie . Maybe I  'm not the best choice to be a magician  's assistant . <eos> Howard : You  'll do fine . Hand me those rings ? <eos> Howard : See ? You nailed it . <eos> UNKNAME : No , it  's just that I  'm not that comfortable with little kids .\n",
            "Predictions: \n",
            "UNI_VIDEO :  Two purple vests .\n",
            "UNI_SUB :  A pink robe he bought her .\n",
            "UNI_QA :  Two purple vests .\n",
            "MM_LIN :  Two purple vests .\n",
            "MM_GLOVE :  His old box of magic tricks .\n",
            "MM_SA :  Two purple vests .\n",
            "\n",
            "Question:  Where sat Howard when talking to Raj ?\n",
            "Answers: \n",
            "a0:  Rug .\n",
            "a1:  Chair .\n",
            "a2:  Stool .\n",
            "a3:  Couch .\n",
            "a4:  Table .\n",
            "Correct Answer:  Couch .\n",
            "Subtitle:  Raj : Oh , another two hours to go . <eos> Raj : The wait is killing me . <eos> Howard : I know . I get it . When I was in the Soyuz capsule <eos> Howard : returning from the space station , plummeting toward Earth <eos> Howard : at 17 , 000 miles per hour . Before you finish , <eos> Raj : is this a story about patience and waiting <eos> Raj : or just another reminder that you went to space ? <eos> Howard : A story can do two things . <eos> Raj : Ugh , I feel like I  'm gon na have a heart attack . <eos> Howard : You work in pharmaceuticals <eos> Howard : do n't you have anything you can give him ? <eos> Bernadette : All I have is our new urine flow drug . <eos> Bernadette : Wo n't help with his anxiety , but it  's so strong , when he pees <eos> Bernadette : he  'll fly around the room like he  's got a jet pack . <eos> Raj : I ca n't stop thinking about it . <eos> Bernadette : You know , worrying wo n't have any effect on what happens . <eos> Penny : I know . Maybe you need to do something more productive . <eos> sighs Okay . <eos> Sheldon : Ah . <eos> Raj : If I make this shot <eos> Raj : in the trash can ,\n",
            "Predictions: \n",
            "UNI_VIDEO :  Chair .\n",
            "UNI_SUB :  Couch .\n",
            "UNI_QA :  Couch .\n",
            "MM_LIN :  Chair .\n",
            "MM_GLOVE :  Chair .\n",
            "MM_SA :  Chair .\n",
            "\n",
            "Question:  What was behind Amy and Sheldon when they were recording themselves ?\n",
            "Answers: \n",
            "a0:  Lifesized superheros\n",
            "a1:  Windows\n",
            "a2:  A dog\n",
            "a3:  Flags\n",
            "a4:  A mirror\n",
            "Correct Answer:  Flags\n",
            "Subtitle:  Sheldon : What  's the only non rectangular flag ? <eos> Sheldon : What animal appears most often on flags ? <eos> Sheldon : What animal appears second most often on flags ? <eos> Sheldon : And more . <eos> Amy : Sweet . <eos> Sheldon : Why are you waving a white flag ? <eos> Amy : I  'm surrendering to fun . <eos> UNKNAME : Now , today  's episode of Fun with Flags is not fun . <eos> UNKNAME : . but it is important . <eos> UNKNAME : Flags , you got ta know how to hold them . <eos> UNKNAME : . you got ta know how to fold them . <eos> UNKNAME : Let  's start by identifying the parts of our flag . <eos> UNKNAME : This edge is the hoist and it  's used to . Excuse me . Sorry , excuse me . <eos> Sheldon : Cut . <eos> Sheldon : Did you not see we are rolling ? <eos> Leonard : I  'm having dinner with Penny . I have to get out of here . <eos> Sheldon : And I have flag knowledge that I have to get out of here .\n",
            "Predictions: \n",
            "UNI_VIDEO :  Lifesized superheros\n",
            "UNI_SUB :  Flags\n",
            "UNI_QA :  Flags\n",
            "MM_LIN :  Lifesized superheros\n",
            "MM_GLOVE :  Lifesized superheros\n",
            "MM_SA :  Flags\n",
            "\n"
          ]
        }
      ]
    },
    {
      "cell_type": "code",
      "source": [
        "import os, sys\n",
        "import numpy as np\n",
        "import pandas as pd\n",
        "import json\n",
        "import matplotlib.pyplot as plt\n",
        "from PIL import Image\n",
        "import urllib.request\n",
        "\n",
        "#for bbt, the episodes don't have bbt in frames folder name\n",
        "shows_prefix_link = {\n",
        "    'bbt':'https://cardibmmml.s3.us-east-1.amazonaws.com/frames_hq/',\n",
        "    'house':'https://tvqammml.s3.us-east-1.amazonaws.com/',\n",
        "    'grey':'https://tvqammml.s3.us-east-1.amazonaws.com/',\n",
        "    'castle':'https://cardibmmml.s3.us-east-1.amazonaws.com/frames_hq/',\n",
        "    'met':'https://tvqammml.s3.us-east-1.amazonaws.com/',\n",
        "    'friends':'https://cardibmmml.s3.us-east-1.amazonaws.com/frames_hq/',\n",
        "}\n",
        "\n",
        "def get_s3_name(link):\n",
        "  start = link.index('://') + 3\n",
        "  end = link.index('.s3')\n",
        "  bucket_name = link[start:end]\n",
        "  return bucket_name\n",
        "\n",
        "def clear_frames_buffer():\n",
        "  while (len(os.listdir('/content/frames_buffer')) != 0):\n",
        "    os.system('rm -rf /content/frames_buffer/*')\n",
        "  return\n",
        "\n",
        "def get_frames(vid_name, skip=1):\n",
        "  #skip=number of frames to be skipped during retrieval\n",
        "\n",
        "  clear_frames_buffer()\n",
        "  filename_dummy = '00000'\n",
        "  _index = vid_name.index('_')\n",
        "  show_name = vid_name[:_index]\n",
        "  if (show_name not in shows_prefix_link):\n",
        "    show_name = 'bbt'\n",
        "  frames_folder = show_name + '_' + 'frames'\n",
        "  print(show_name)\n",
        "  prefix_link = ''\n",
        "  if (get_s3_name(shows_prefix_link[show_name]) == 'tvqammml'):\n",
        "    prefix_link = shows_prefix_link[show_name] \n",
        "  else:\n",
        "    prefix_link = shows_prefix_link[show_name] + frames_folder + '/'\n",
        "  for i in range(1,300,skip):\n",
        "    filename_temp = (filename_dummy + str(i))[-5:] + '.jpg'\n",
        "    frame_link = prefix_link + vid_name + '/' + filename_temp\n",
        "    try:\n",
        "      urllib.request.urlretrieve(frame_link, '/content/frames_buffer/'+filename_temp)\n",
        "    except:\n",
        "      print(\"Reached end.\")\n",
        "      if (len(os.listdir('/content/frames_buffer')) == 0):\n",
        "        print(\"Frames not found.\")\n",
        "      break"
      ],
      "metadata": {
        "id": "2zycH_DoJlTI"
      },
      "execution_count": 86,
      "outputs": []
    },
    {
      "cell_type": "markdown",
      "source": [
        "[5, 978, 1589, 2546]"
      ],
      "metadata": {
        "id": "NWzYj3c-OVlJ"
      }
    },
    {
      "cell_type": "code",
      "source": [
        "get_frames(val_data[2546]['vid_name'])"
      ],
      "metadata": {
        "colab": {
          "base_uri": "https://localhost:8080/"
        },
        "id": "azwr5WpXJl23",
        "outputId": "bf997ab9-4b1c-4ad2-8e71-0c7f4392e3ca"
      },
      "execution_count": 97,
      "outputs": [
        {
          "output_type": "stream",
          "name": "stdout",
          "text": [
            "bbt\n",
            "Reached end.\n"
          ]
        }
      ]
    }
  ]
}